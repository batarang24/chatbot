{
 "cells": [
  {
   "cell_type": "code",
   "execution_count": 168,
   "id": "1a4849e8-a763-42b7-ae13-2e53d1fa24ce",
   "metadata": {},
   "outputs": [],
   "source": [
    "import pandas as pd\n",
    "import numpy as np"
   ]
  },
  {
   "cell_type": "code",
   "execution_count": 169,
   "id": "c9b69074-6829-4fbf-8897-9bada4b30b92",
   "metadata": {},
   "outputs": [
    {
     "data": {
      "text/html": [
       "<div>\n",
       "<style scoped>\n",
       "    .dataframe tbody tr th:only-of-type {\n",
       "        vertical-align: middle;\n",
       "    }\n",
       "\n",
       "    .dataframe tbody tr th {\n",
       "        vertical-align: top;\n",
       "    }\n",
       "\n",
       "    .dataframe thead th {\n",
       "        text-align: right;\n",
       "    }\n",
       "</style>\n",
       "<table border=\"1\" class=\"dataframe\">\n",
       "  <thead>\n",
       "    <tr style=\"text-align: right;\">\n",
       "      <th></th>\n",
       "      <th>Question</th>\n",
       "      <th>Answer</th>\n",
       "    </tr>\n",
       "  </thead>\n",
       "  <tbody>\n",
       "    <tr>\n",
       "      <th>0</th>\n",
       "      <td>NaN</td>\n",
       "      <td>NaN</td>\n",
       "    </tr>\n",
       "    <tr>\n",
       "      <th>1</th>\n",
       "      <td>How did you select your undergraduate university?</td>\n",
       "      <td>I choose my undergraduate University base on p...</td>\n",
       "    </tr>\n",
       "    <tr>\n",
       "      <th>2</th>\n",
       "      <td>NaN</td>\n",
       "      <td>NaN</td>\n",
       "    </tr>\n",
       "    <tr>\n",
       "      <th>3</th>\n",
       "      <td>Think back on your undergraduate experience at...</td>\n",
       "      <td>To improve more placements facilities and tran...</td>\n",
       "    </tr>\n",
       "    <tr>\n",
       "      <th>4</th>\n",
       "      <td>NaN</td>\n",
       "      <td>NaN</td>\n",
       "    </tr>\n",
       "  </tbody>\n",
       "</table>\n",
       "</div>"
      ],
      "text/plain": [
       "                                            Question  \\\n",
       "0                                                NaN   \n",
       "1  How did you select your undergraduate university?   \n",
       "2                                                NaN   \n",
       "3  Think back on your undergraduate experience at...   \n",
       "4                                                NaN   \n",
       "\n",
       "                                              Answer  \n",
       "0                                                NaN  \n",
       "1  I choose my undergraduate University base on p...  \n",
       "2                                                NaN  \n",
       "3  To improve more placements facilities and tran...  \n",
       "4                                                NaN  "
      ]
     },
     "execution_count": 169,
     "metadata": {},
     "output_type": "execute_result"
    }
   ],
   "source": [
    "df=pd.read_csv('chat.csv')\n",
    "df.head(5)"
   ]
  },
  {
   "cell_type": "code",
   "execution_count": 170,
   "id": "0d60bcfc-9271-4a20-b44d-38a8a9258641",
   "metadata": {},
   "outputs": [
    {
     "data": {
      "text/html": [
       "<div>\n",
       "<style scoped>\n",
       "    .dataframe tbody tr th:only-of-type {\n",
       "        vertical-align: middle;\n",
       "    }\n",
       "\n",
       "    .dataframe tbody tr th {\n",
       "        vertical-align: top;\n",
       "    }\n",
       "\n",
       "    .dataframe thead th {\n",
       "        text-align: right;\n",
       "    }\n",
       "</style>\n",
       "<table border=\"1\" class=\"dataframe\">\n",
       "  <thead>\n",
       "    <tr style=\"text-align: right;\">\n",
       "      <th></th>\n",
       "      <th>Question</th>\n",
       "      <th>Answer</th>\n",
       "    </tr>\n",
       "  </thead>\n",
       "  <tbody>\n",
       "    <tr>\n",
       "      <th>1</th>\n",
       "      <td>How did you select your undergraduate university?</td>\n",
       "      <td>I choose my undergraduate University base on p...</td>\n",
       "    </tr>\n",
       "    <tr>\n",
       "      <th>3</th>\n",
       "      <td>Think back on your undergraduate experience at...</td>\n",
       "      <td>To improve more placements facilities and tran...</td>\n",
       "    </tr>\n",
       "    <tr>\n",
       "      <th>5</th>\n",
       "      <td>If you were incharge of Prist University, what...</td>\n",
       "      <td>To help students gain experience, I should pro...</td>\n",
       "    </tr>\n",
       "    <tr>\n",
       "      <th>7</th>\n",
       "      <td>What undergraduate courses did you enjoy most?...</td>\n",
       "      <td>Mostly i enjoy my exter curricular activities ...</td>\n",
       "    </tr>\n",
       "    <tr>\n",
       "      <th>9</th>\n",
       "      <td>Why did you choose your undergraduate major?</td>\n",
       "      <td>I have more interest in computer science major...</td>\n",
       "    </tr>\n",
       "  </tbody>\n",
       "</table>\n",
       "</div>"
      ],
      "text/plain": [
       "                                            Question  \\\n",
       "1  How did you select your undergraduate university?   \n",
       "3  Think back on your undergraduate experience at...   \n",
       "5  If you were incharge of Prist University, what...   \n",
       "7  What undergraduate courses did you enjoy most?...   \n",
       "9       Why did you choose your undergraduate major?   \n",
       "\n",
       "                                              Answer  \n",
       "1  I choose my undergraduate University base on p...  \n",
       "3  To improve more placements facilities and tran...  \n",
       "5  To help students gain experience, I should pro...  \n",
       "7  Mostly i enjoy my exter curricular activities ...  \n",
       "9  I have more interest in computer science major...  "
      ]
     },
     "execution_count": 170,
     "metadata": {},
     "output_type": "execute_result"
    }
   ],
   "source": [
    "df1=df.dropna()\n",
    "df1.head()"
   ]
  },
  {
   "cell_type": "code",
   "execution_count": 171,
   "id": "efc60a4b-9733-4186-ad5a-0a8d94576169",
   "metadata": {},
   "outputs": [],
   "source": [
    "from sklearn.feature_extraction.text import CountVectorizer\n",
    "cv=CountVectorizer()"
   ]
  },
  {
   "cell_type": "code",
   "execution_count": 172,
   "id": "1fcdc539-001a-4896-9712-ae31f953baa6",
   "metadata": {},
   "outputs": [],
   "source": [
    "from sklearn.model_selection import train_test_split\n",
    "X_train,X_test,y_train,y_test=train_test_split(df1['Question'],df1['Answer'],test_size=0.1)"
   ]
  },
  {
   "cell_type": "code",
   "execution_count": 173,
   "id": "a9c497c3-ab7a-4588-bfc8-6293e8e3e17b",
   "metadata": {},
   "outputs": [
    {
     "data": {
      "text/plain": [
       "array(['If your best friend were asked to describe you, what would they say?',\n",
       "       'How have your personal and volunteer experiences strengthened your goal to become a data scientist?',\n",
       "       'Outline your study techniques',\n",
       "       'Sometimes it is important to disagree with others to keep a mistake from being made. Tell me about a time when you were willing to disagree with another person in order to build a positive outcome.',\n",
       "       'Why did you drop, fail, or get a particular grade in a certain class?',\n",
       "       'Describe a face-to-face meeting in which you had to influence a highly emotional individual. What techniques did you use? What happened?',\n",
       "       'What are your positive qualities and what are your shortcomings?',\n",
       "       'What is the best thing that has ever happened to you?the worst?',\n",
       "       'What experiences have you had in community involvement that demonstrates your commitment to data scientist?',\n",
       "       'What person, past or present, would you most like to meet?',\n",
       "       'Give me a specific example of a time when your communication skills enabled you to influence the way others thought or acted',\n",
       "       'How do you know you will make a good data scientist?',\n",
       "       'Describe your best college professor. What made them unique? What has been your favorite course and why?',\n",
       "       'Which area of data scientist are you most interested in?',\n",
       "       'Name something you are most proud of',\n",
       "       'Give me an example of a situation where you sought out a problem to solve because it represented a challenge to you',\n",
       "       'What undergraduate courses did you enjoy most? Least?',\n",
       "       'What are three things that you would change about yourself?',\n",
       "       'Do you like being alone? When you are alone,what do you think about?',\n",
       "       'How did you investigate a career in data scientist?',\n",
       "       'What do you do in your spare time?',\n",
       "       'Why do you think so many people want to be data scientist?',\n",
       "       'When you need counseling for personal problems, with whom do you talk?',\n",
       "       'Do you have family members who are data scientist? What do they think of the field? How have their lives changed over the past few years with the changes in data scientist? Do you want to follow in their footsteps?',\n",
       "       'What are your specific goals in data scientist?',\n",
       "       'Why did you choose your undergraduate major?',\n",
       "       'What kind of experiences do you have in the data scientist?',\n",
       "       'How did you select your undergraduate university?',\n",
       "       'What subjects are you now studying? Discuss.',\n",
       "       'Do your grades accurately reflect your ability?',\n",
       "       'What extracurricular activities were you involved in during your undergraduate years?',\n",
       "       'Describe any travels you have undertaken and exposure to other cultures. What have you learned from these experiences?',\n",
       "       'How many hours a week did you study?',\n",
       "       'What do you look for when choosing a data scientist?',\n",
       "       'How do your parents and friends feel about your career decision? How have they influenced you in this decision?',\n",
       "       'What newspapers/journals do you read on a regular basis?',\n",
       "       'Tell me about a situation in which you felt you acted too quickly and later regretted it. What caused it?',\n",
       "       'If you could invite three living persons to dinner on successive weeks, whom would you choose?',\n",
       "       'If you were incharge of Prist University, what would you change that would impact the undergraduate experience as it pertains to advancement to Bharathiar University?',\n",
       "       'What are the negative aspects of data scientist from a professional standpoint?',\n",
       "       'What negative things have you heard about the area you want to go into, and how do you feel about them?',\n",
       "       'What was the last movie you saw? What did you think of it?',\n",
       "       'How have you benefited from your undergraduate education?',\n",
       "       'What is your relationship with your family?',\n",
       "       'Think back on your undergraduate experience at Prist University. What would you change about it?',\n",
       "       'What are the most important rewards you expect from a data scientist career?',\n",
       "       'What type of data scientist would you like to be? Why?',\n",
       "       'If you were stranded on an island, what three books would you have with you and why?',\n",
       "       'If you could be any character in history, who would you be and why?',\n",
       "       'Describe yourself in terms of your greatest strengths and weakness',\n",
       "       'Discuss a book that you recently read for pleasure. Why does this book interest you?',\n",
       "       'Describe your personality',\n",
       "       'What will you do if you are not accepted to law school this year?',\n",
       "       'What do you think are a data scientist social responsibilities? How do you plan to personally contribute to society as a data scientist?',\n",
       "       'Which family member has influenced your life so far and why?',\n",
       "       'What stimulated your interest in data scientist?',\n",
       "       'Who are your heroes?',\n",
       "       'How do you think the public views the data scientist profession',\n",
       "       'How has your undergraduate experience made you a better person?',\n",
       "       'What was your toughest class? Why? What skills have you developed outside the classroom?',\n",
       "       'What experience crystallized your decision to become a data scientist?'],\n",
       "      dtype=object)"
      ]
     },
     "execution_count": 173,
     "metadata": {},
     "output_type": "execute_result"
    }
   ],
   "source": [
    "X_train.values"
   ]
  },
  {
   "cell_type": "code",
   "execution_count": 174,
   "id": "7f2148ab-f9c7-45ba-8b55-61c9dfdadeac",
   "metadata": {},
   "outputs": [],
   "source": [
    "mssg=cv.fit_transform(X_train.values)"
   ]
  },
  {
   "cell_type": "code",
   "execution_count": 175,
   "id": "a22e7fce-17ce-4584-bdbf-272578e3ae91",
   "metadata": {},
   "outputs": [],
   "source": [
    "from sklearn.naive_bayes import MultinomialNB\n",
    "mn=MultinomialNB()\n",
    "model=mn.fit(mssg,y_train)"
   ]
  },
  {
   "cell_type": "code",
   "execution_count": 176,
   "id": "7d46175c-b2cd-4e38-b1b1-aa6364343d7e",
   "metadata": {},
   "outputs": [
    {
     "data": {
      "text/plain": [
       "<61x286 sparse matrix of type '<class 'numpy.int64'>'\n",
       "\twith 709 stored elements in Compressed Sparse Row format>"
      ]
     },
     "execution_count": 176,
     "metadata": {},
     "output_type": "execute_result"
    }
   ],
   "source": [
    "mssg"
   ]
  },
  {
   "cell_type": "code",
   "execution_count": 177,
   "id": "3a94a4b6-cf36-45c4-9203-eefba711365e",
   "metadata": {},
   "outputs": [
    {
     "data": {
      "text/plain": [
       "<7x286 sparse matrix of type '<class 'numpy.int64'>'\n",
       "\twith 56 stored elements in Compressed Sparse Row format>"
      ]
     },
     "execution_count": 177,
     "metadata": {},
     "output_type": "execute_result"
    }
   ],
   "source": [
    "mssgs=cv.transform(X_test)\n",
    "mssgs"
   ]
  },
  {
   "cell_type": "code",
   "execution_count": 178,
   "id": "0f5a0a03-74cb-4dee-9279-9babe5bcffa8",
   "metadata": {},
   "outputs": [],
   "source": [
    "val=mn.predict(mssgs)"
   ]
  },
  {
   "cell_type": "code",
   "execution_count": 179,
   "id": "d85a71d0-dc58-4b82-bb62-108dc2ccb204",
   "metadata": {},
   "outputs": [],
   "source": [
    "ques=['what is my name',\n",
    "      'what you love',\n",
    "      'who is your hero']\n",
    "mes=cv.transform(ques)"
   ]
  },
  {
   "cell_type": "code",
   "execution_count": 180,
   "id": "3d2d935c-3466-474f-b374-99f30d5eb169",
   "metadata": {},
   "outputs": [
    {
     "data": {
      "text/plain": [
       "array(['suppotive and naughty daughter for my parents and friendly and caring sister for my brother and i have strong bond with my family',\n",
       "       'rangoli was the last movie i have saw,i that movie they tells about the need of education and the education is not deppend on the place where we have studing',\n",
       "       'suppotive and naughty daughter for my parents and friendly and caring sister for my brother and i have strong bond with my family'],\n",
       "      dtype='<U279')"
      ]
     },
     "execution_count": 180,
     "metadata": {},
     "output_type": "execute_result"
    }
   ],
   "source": [
    "mn.predict(mes)"
   ]
  },
  {
   "cell_type": "code",
   "execution_count": 181,
   "id": "ebf9883b-bc94-47ec-8d04-69c80fbdd776",
   "metadata": {},
   "outputs": [
    {
     "name": "stdout",
     "output_type": "stream",
     "text": [
      "Requirement already satisfied: textblob in c:\\users\\admin\\pythonlab\\lib\\site-packages (0.17.1)\n",
      "Requirement already satisfied: nltk>=3.1 in c:\\users\\admin\\pythonlab\\lib\\site-packages (from textblob) (3.8.1)\n",
      "Requirement already satisfied: click in c:\\users\\admin\\pythonlab\\lib\\site-packages (from nltk>=3.1->textblob) (8.1.7)\n",
      "Requirement already satisfied: joblib in c:\\users\\admin\\pythonlab\\lib\\site-packages (from nltk>=3.1->textblob) (1.3.2)\n",
      "Requirement already satisfied: regex>=2021.8.3 in c:\\users\\admin\\pythonlab\\lib\\site-packages (from nltk>=3.1->textblob) (2023.10.3)\n",
      "Requirement already satisfied: tqdm in c:\\users\\admin\\pythonlab\\lib\\site-packages (from nltk>=3.1->textblob) (4.66.1)\n",
      "Requirement already satisfied: colorama in c:\\users\\admin\\pythonlab\\lib\\site-packages (from click->nltk>=3.1->textblob) (0.4.6)\n",
      "Note: you may need to restart the kernel to use updated packages.\n"
     ]
    },
    {
     "name": "stderr",
     "output_type": "stream",
     "text": [
      "\n",
      "[notice] A new release of pip is available: 23.2.1 -> 23.3.2\n",
      "[notice] To update, run: python.exe -m pip install --upgrade pip\n"
     ]
    }
   ],
   "source": [
    "pip install textblob"
   ]
  },
  {
   "cell_type": "code",
   "execution_count": 182,
   "id": "6ba65f9d-afb7-4ce8-b236-77cddc7da857",
   "metadata": {},
   "outputs": [
    {
     "data": {
      "text/plain": [
       "Sentiment(polarity=-0.375, subjectivity=0.625)"
      ]
     },
     "execution_count": 182,
     "metadata": {},
     "output_type": "execute_result"
    }
   ],
   "source": [
    "from textblob import TextBlob\n",
    "#demo\n",
    "text=TextBlob('Hello world i am weak')\n",
    "text.sentiment"
   ]
  },
  {
   "cell_type": "code",
   "execution_count": 183,
   "id": "a76f5caf-1624-4e95-ab55-85844a157e38",
   "metadata": {},
   "outputs": [
    {
     "name": "stdout",
     "output_type": "stream",
     "text": [
      "Sentiment(polarity=0.0, subjectivity=0.0)\n",
      "Sentiment(polarity=0.0, subjectivity=0.0)\n",
      "Sentiment(polarity=0.0, subjectivity=0.0)\n",
      "Sentiment(polarity=0.20000000000000004, subjectivity=0.4666666666666666)\n",
      "Sentiment(polarity=0.0625, subjectivity=0.5)\n",
      "Sentiment(polarity=0.0, subjectivity=0.0)\n",
      "Sentiment(polarity=0.05, subjectivity=0.175)\n",
      "Sentiment(polarity=0.625, subjectivity=0.7666666666666666)\n",
      "Sentiment(polarity=0.0, subjectivity=0.0)\n",
      "Sentiment(polarity=0.5, subjectivity=0.5)\n",
      "Sentiment(polarity=0.5, subjectivity=0.5)\n",
      "Sentiment(polarity=0.0, subjectivity=0.0)\n",
      "Sentiment(polarity=-0.0396825396825397, subjectivity=0.40158730158730155)\n",
      "Sentiment(polarity=0.0, subjectivity=0.0)\n",
      "Sentiment(polarity=0.4000000000000001, subjectivity=0.6333333333333334)\n",
      "Sentiment(polarity=0.0, subjectivity=0.0)\n",
      "Sentiment(polarity=0.0, subjectivity=0.0)\n",
      "Sentiment(polarity=0.03333333333333333, subjectivity=0.06666666666666667)\n",
      "Sentiment(polarity=0.0, subjectivity=0.0)\n",
      "Sentiment(polarity=0.375, subjectivity=0.5)\n",
      "Sentiment(polarity=0.6, subjectivity=0.9)\n",
      "Sentiment(polarity=0.7, subjectivity=0.6000000000000001)\n",
      "Sentiment(polarity=0.5, subjectivity=0.5)\n",
      "Sentiment(polarity=0.0, subjectivity=0.0)\n",
      "Sentiment(polarity=0.0, subjectivity=0.0)\n",
      "Sentiment(polarity=0.0, subjectivity=0.0)\n",
      "Sentiment(polarity=0.0, subjectivity=0.0)\n",
      "Sentiment(polarity=-0.225, subjectivity=0.175)\n",
      "Sentiment(polarity=0.0, subjectivity=0.125)\n",
      "Sentiment(polarity=0.0, subjectivity=0.0)\n",
      "Sentiment(polarity=-0.09999999999999999, subjectivity=0.25)\n",
      "Sentiment(polarity=0.016666666666666666, subjectivity=0.18333333333333332)\n",
      "Sentiment(polarity=0.0, subjectivity=0.0)\n",
      "Sentiment(polarity=-0.3, subjectivity=0.4)\n",
      "Sentiment(polarity=0.0, subjectivity=0.3)\n",
      "Sentiment(polarity=0.45, subjectivity=0.75)\n",
      "Sentiment(polarity=0.0, subjectivity=0.06666666666666667)\n",
      "Sentiment(polarity=0.0, subjectivity=0.0)\n",
      "Sentiment(polarity=0.16666666666666666, subjectivity=0.25)\n",
      "Sentiment(polarity=0.0, subjectivity=0.25)\n",
      "Sentiment(polarity=0.0, subjectivity=0.07692307692307693)\n",
      "Sentiment(polarity=-0.125, subjectivity=0.375)\n",
      "Sentiment(polarity=0.0, subjectivity=0.0)\n",
      "Sentiment(polarity=0.0, subjectivity=0.06666666666666667)\n",
      "Sentiment(polarity=0.0, subjectivity=0.0)\n",
      "Sentiment(polarity=0.0, subjectivity=0.23333333333333334)\n",
      "Sentiment(polarity=0.08333333333333333, subjectivity=0.25)\n",
      "Sentiment(polarity=0.0, subjectivity=0.0)\n",
      "Sentiment(polarity=0.0, subjectivity=0.0)\n",
      "Sentiment(polarity=0.08333333333333333, subjectivity=0.19166666666666665)\n",
      "Sentiment(polarity=0.0, subjectivity=0.525)\n",
      "Sentiment(polarity=0.2924242424242424, subjectivity=0.7651515151515151)\n",
      "Sentiment(polarity=0.0, subjectivity=0.125)\n",
      "Sentiment(polarity=0.20416666666666664, subjectivity=0.43333333333333335)\n",
      "Sentiment(polarity=0.22727272727272727, subjectivity=0.5454545454545454)\n",
      "Sentiment(polarity=0.0, subjectivity=0.0)\n",
      "Sentiment(polarity=0.0, subjectivity=0.0)\n",
      "Sentiment(polarity=0.0, subjectivity=0.65)\n",
      "Sentiment(polarity=1.0, subjectivity=0.3)\n",
      "Sentiment(polarity=0.0, subjectivity=0.0)\n",
      "Sentiment(polarity=0.65, subjectivity=0.75)\n",
      "Sentiment(polarity=0.1, subjectivity=1.0)\n",
      "Sentiment(polarity=1.0, subjectivity=1.0)\n",
      "Sentiment(polarity=0.0, subjectivity=0.3)\n",
      "Sentiment(polarity=0.0, subjectivity=0.0)\n",
      "Sentiment(polarity=-0.3125, subjectivity=0.6875)\n",
      "Sentiment(polarity=0.0, subjectivity=0.0)\n",
      "Sentiment(polarity=0.0, subjectivity=0.0)\n"
     ]
    }
   ],
   "source": [
    "quessen=df1['Question'].values\n",
    "for i in quessen:\n",
    "    texta=TextBlob(i)\n",
    "    print(texta.sentiment)"
   ]
  },
  {
   "cell_type": "code",
   "execution_count": 184,
   "id": "e06d4b89-5bb4-428f-8dca-3f93bfd6bf06",
   "metadata": {},
   "outputs": [
    {
     "name": "stdout",
     "output_type": "stream",
     "text": [
      "Requirement already satisfied: joblib in c:\\users\\admin\\pythonlab\\lib\\site-packages (1.3.2)\n",
      "Note: you may need to restart the kernel to use updated packages.\n"
     ]
    },
    {
     "name": "stderr",
     "output_type": "stream",
     "text": [
      "\n",
      "[notice] A new release of pip is available: 23.2.1 -> 23.3.2\n",
      "[notice] To update, run: python.exe -m pip install --upgrade pip\n"
     ]
    }
   ],
   "source": [
    "pip install joblib"
   ]
  },
  {
   "cell_type": "code",
   "execution_count": 188,
   "id": "a56b36dc-e2ed-4498-be87-9a9a3d2abd3e",
   "metadata": {},
   "outputs": [
    {
     "data": {
      "text/plain": [
       "['cv.pkl']"
      ]
     },
     "execution_count": 188,
     "metadata": {},
     "output_type": "execute_result"
    }
   ],
   "source": [
    "import joblib\n",
    "joblib.dump(model,'chatbot.pkl')\n",
    "joblib.dump(cv,'cv.pkl')"
   ]
  },
  {
   "cell_type": "code",
   "execution_count": 187,
   "id": "55781ebf-1787-48d5-9516-7c57e9f83c0d",
   "metadata": {},
   "outputs": [
    {
     "data": {
      "text/plain": [
       "array(['suppotive and naughty daughter for my parents and friendly and caring sister for my brother and i have strong bond with my family',\n",
       "       'rangoli was the last movie i have saw,i that movie they tells about the need of education and the education is not deppend on the place where we have studing',\n",
       "       'suppotive and naughty daughter for my parents and friendly and caring sister for my brother and i have strong bond with my family'],\n",
       "      dtype='<U279')"
      ]
     },
     "execution_count": 187,
     "metadata": {},
     "output_type": "execute_result"
    }
   ],
   "source": []
  },
  {
   "cell_type": "code",
   "execution_count": null,
   "id": "e3fd568a-7ff3-4f12-a83c-2238023fdaf4",
   "metadata": {},
   "outputs": [],
   "source": []
  }
 ],
 "metadata": {
  "kernelspec": {
   "display_name": "Python 3 (ipykernel)",
   "language": "python",
   "name": "python3"
  },
  "language_info": {
   "codemirror_mode": {
    "name": "ipython",
    "version": 3
   },
   "file_extension": ".py",
   "mimetype": "text/x-python",
   "name": "python",
   "nbconvert_exporter": "python",
   "pygments_lexer": "ipython3",
   "version": "3.11.5"
  }
 },
 "nbformat": 4,
 "nbformat_minor": 5
}
